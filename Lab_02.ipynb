{
 "cells": [
  {
   "cell_type": "markdown",
   "id": "57765efa-e795-46a5-b646-46550dfd725e",
   "metadata": {},
   "source": [
    "<h1 align = 'center' style = \"font-size:  xxx-large;\">\n",
    "Conditions and Logic\n",
    "</h1>"
   ]
  },
  {
   "cell_type": "markdown",
   "id": "2a72df0b-8e29-4386-a150-76340da957e9",
   "metadata": {},
   "source": [
    "Computer Programs make decisons based on logic: if some condition applies, do something, otherwise, do something else."
   ]
  },
  {
   "cell_type": "markdown",
   "id": "639d0784-4d5b-484a-8bff-2bd275da6dcc",
   "metadata": {},
   "source": [
    "## Content Learning Objectives\n",
    "*After completing this activity, students should be able to:* \n",
    "* Evaluate boolean expressions with comparison operators (<, >, <=, >=, ==, !=)\n",
    "* Explain the syntax and meaning of if/else statements and indented blocks\n",
    "* Evaluate boolean expressions that involve comparisons with and, or, and not."
   ]
  },
  {
   "cell_type": "markdown",
   "id": "62690332-c896-4353-b881-04f9484f07cd",
   "metadata": {},
   "source": [
    "## Process Skill Goals\n",
    "*During the activity, students should make progress toward:*\n",
    "* Evaluating complex logic expressions based on operator precedence. (Critical Thinking)"
   ]
  },
  {
   "cell_type": "markdown",
   "id": "5940f030-5273-4369-a6d3-b25811ebfb97",
   "metadata": {},
   "source": [
    "## Atmospheric Sciences Concepts\n",
    "Decisions can be used for a variety of things in atmospheric sciences. The most common is using conditions and logic to categorize weather phenomena. These can include:\n",
    "* Hurricanes\n",
    "* Tornadoes\n",
    "* Watch vs Warning\n",
    "* Sky Cover\n",
    "* Scales\n",
    "* Much, much more!!!"
   ]
  },
  {
   "cell_type": "markdown",
   "id": "955f5756-76c4-4e9c-b8a8-38bc70f5da00",
   "metadata": {},
   "source": [
    "# Part 1 Comparison Operators"
   ]
  },
  {
   "cell_type": "markdown",
   "id": "1034d8f2-b947-4a55-8fe6-6a208ac21ba0",
   "metadata": {},
   "source": [
    "In Python, a comparison (e.g., 100 < 200) will yield a ***Boolean*** value of either **True** or **False**. Most data types (including *int, float, str, list, and tuple*) can be compared using the following operators:"
   ]
  },
  {
   "cell_type": "markdown",
   "id": "3a45ddd5-223b-456b-ab85-a24c314910e5",
   "metadata": {},
   "source": [
    "| **Operator** | **Meaning**|\n",
    "|--------------|------------|\n",
    "|<| Less than|\n",
    "|<=| Less than or equal to|\n",
    "|>| Greater than|\n",
    "|>=| Greater than or equal to|\n",
    "|==| equal|\n",
    "|!=| not equal|"
   ]
  },
  {
   "cell_type": "markdown",
   "id": "da63f460-00b1-407b-8594-e50e00d5c97d",
   "metadata": {},
   "source": [
    "Type the following code, one line at a time, into a Python Shell. Record the output for each line (if any) in the second column."
   ]
  },
  {
   "cell_type": "markdown",
   "id": "f2b98acb-7718-49c6-9121-5fa22173c242",
   "metadata": {},
   "source": [
    "|            **Python Code**            | **Shell Output**|\n",
    "|---------------------------------------|-----------------|\n",
    "|**type(True)**                         |                 |\n",
    "|**type(true)**                         |                 |\n",
    "|**type(3 < 4)**                        |                 |\n",
    "|**print(3 < 4)**                       |                 |\n",
    "|**three = 3**                          |                 |\n",
    "|**four = 4**                           |                 |\n",
    "|**five = 5**                           |                 |\n",
    "|**print(three == four)**               |                 |\n",
    "|**print(three < five and four < five)**|                 |\n",
    "|**check = three > four**               |                 |\n",
    "|**print(check)**                       |                 |\n",
    "|**type(check)**                        |                 |\n",
    "|**print(three = four)**                |                 |\n",
    "|**three = four**                       |                 |\n",
    "|**print(three == four)**               |                 |"
   ]
  },
  {
   "cell_type": "markdown",
   "id": "d7e3501d-6b1d-4c82-b0a1-b8656b01ac58",
   "metadata": {},
   "source": [
    "## Questions"
   ]
  },
  {
   "cell_type": "markdown",
   "id": "ad2e6bdd-5c66-464e-8bdb-becfcf3d7ead",
   "metadata": {},
   "source": [
    "1. What is the name of the data type for Boolean values?"
   ]
  },
  {
   "cell_type": "markdown",
   "id": "fc1bea4f-6fa2-4f6c-8b1b-5b660f0d1299",
   "metadata": {},
   "source": []
  },
  {
   "cell_type": "markdown",
   "id": "674fee3c-6f2b-424f-a1d6-ef45de9fefae",
   "metadata": {},
   "source": [
    "2. Do the words ***True*** and ***False*** need to be capatilized? Explain how you know."
   ]
  },
  {
   "cell_type": "markdown",
   "id": "27c510e1-931f-4bee-b34a-e7e06a1ce286",
   "metadata": {},
   "source": [
    "3. What Boolean Operators did you use in the table above?"
   ]
  },
  {
   "cell_type": "markdown",
   "id": "0cbb7ee9-e457-4a09-b67e-23ea954894c7",
   "metadata": {},
   "source": []
  },
  {
   "cell_type": "markdown",
   "id": "bf9f19d0-188e-4ce4-830e-f01e8cfb3085",
   "metadata": {},
   "source": [
    "4. Explain why the same expression ***three == four*** had two different results."
   ]
  },
  {
   "cell_type": "markdown",
   "id": "96346717-1a50-4ac7-9f60-126a7ff9668a",
   "metadata": {},
   "source": []
  },
  {
   "cell_type": "markdown",
   "id": "9f74822a-8803-42c4-9928-e8ebf86fad6c",
   "metadata": {},
   "source": [
    "5. What is the difference between the ***=*** operator and the ***==*** operator?"
   ]
  },
  {
   "cell_type": "markdown",
   "id": "ad802865-1658-493b-9de8-9991098100ea",
   "metadata": {},
   "source": [
    "6. Write a Boolean expression that uses the ***!=*** operator and evaluates to ***False***."
   ]
  },
  {
   "cell_type": "markdown",
   "id": "e8bc1d08-e5d9-47fc-bf96-bcb6a815792f",
   "metadata": {},
   "source": []
  },
  {
   "cell_type": "markdown",
   "id": "a5631a55-08f2-4035-a1e3-f15904658d32",
   "metadata": {},
   "source": []
  },
  {
   "cell_type": "markdown",
   "id": "fbc81532-af1f-4acf-9636-08e07e9dcda2",
   "metadata": {},
   "source": [
    "# Part 2 if/else Statements"
   ]
  },
  {
   "cell_type": "markdown",
   "id": "09238392-8edc-4fed-8270-8d19929d4f90",
   "metadata": {},
   "source": [
    "An if statement makes it possible to control what code will be executed in a program, based on a condition. If statements use Boolean Expressions, a statement that evaluates to either True or False, to make a decision. Here are a few examples:"
   ]
  },
  {
   "cell_type": "markdown",
   "id": "3e5306e3-9eba-467c-b4bb-ae8119d16685",
   "metadata": {},
   "source": [
    "## Example 1"
   ]
  },
  {
   "cell_type": "code",
   "execution_count": null,
   "id": "09460bc3-2ed0-439d-9713-01100e8cc95c",
   "metadata": {},
   "outputs": [],
   "source": [
    "number = int(input(\"Enter an interger: \"))\n",
    "if number < 0:\n",
    "    print(number, \"is negative. This is unacceptable.\")\n",
    "else:\n",
    "    print(number, \"is a fine number.\")\n",
    "print(\"Until next time ...\")"
   ]
  },
  {
   "cell_type": "markdown",
   "id": "6b1d927a-1be5-40b1-ac9b-a3651efcca1c",
   "metadata": {},
   "source": [
    "Python uses *indentation* to define the structure of programs. The line indented under the *if* statement is executed only when **number < 0** is ***True***. Likewise, the line indented under the *else* statement is executed only when **number < 0** is ***False***."
   ]
  },
  {
   "cell_type": "markdown",
   "id": "fd315a6a-f86b-4e29-9729-c83702d17c02",
   "metadata": {},
   "source": [
    "## Example 2"
   ]
  },
  {
   "cell_type": "markdown",
   "id": "1c8e6d6b-13db-491e-94c9-202ee18fbd01",
   "metadata": {},
   "source": [
    "The Saffir-Simpson Scale is used for hurricane classification. It uses wind speeds to estimate potential property damage and storm surge. Here is a larger *if/else* block using the Saffir-Simpson Scale."
   ]
  },
  {
   "cell_type": "code",
   "execution_count": null,
   "id": "32d8c392-1ef7-48b7-bfd9-0a46f7fc7ed3",
   "metadata": {},
   "outputs": [],
   "source": [
    "wind_speed = int(input(\"Enter a wind speed: \"))\n",
    "if wind_speed < 20:\n",
    "    print(\"A wind speed of\", wind_speed, \"kts is normal\")\n",
    "elif wind_speed > 20 and wind_speed < 34:\n",
    "    print(\"A wind speed of\", wind_speed, \"kts is a Tropical Depression\")\n",
    "elif wind_speed > 35 and wind_speed < 63:\n",
    "    print(\"A wind speed of\", wind_speed, \"kts is a Tropical Storm\")\n",
    "elif wind_speed > 64 and wind_speed < 82:\n",
    "    print(\"A wind speed of\", wind_speed, \"kts is a Category 1 Hurricane\")\n",
    "elif wind_speed > 83 and wind_speed < 95:\n",
    "    print(\"A wind speed of\", wind_speed, \"kts is a Category 2 Hurricane\")\n",
    "elif wind_speed > 96 and wind_speed < 113:\n",
    "    print(\"A wind speed of\", wind_speed, \"kts is a Category 3 Hurricane\")\n",
    "elif wind_speed > 114 and wind_speed < 135:\n",
    "    print(\"A wind speed of\", wind_speed, \"kts is a Category 4 Hurricane\")\n",
    "else:\n",
    "    print(\"A wind speed of\", wind_speed, \"kts is a Category 5 Hurricane\")"
   ]
  },
  {
   "cell_type": "markdown",
   "id": "749a885e-469c-4737-9683-6bba0ce14d96",
   "metadata": {},
   "source": [
    "## Questions"
   ]
  },
  {
   "cell_type": "markdown",
   "id": "e1a431b4-b4b5-48c4-908c-2050d5455e8f",
   "metadata": {},
   "source": [
    "7. What is the Boolean expression in the first *if/else* example?"
   ]
  },
  {
   "cell_type": "markdown",
   "id": "75ab694b-9d16-4f2b-8408-1b42bdf1cc7b",
   "metadata": {},
   "source": []
  },
  {
   "cell_type": "markdown",
   "id": "e1ee59c1-0371-4c9f-8c9d-1ed31d2b0823",
   "metadata": {},
   "source": [
    "8. Run the first example. What is the output when the user enters the number 5? What is the output when the user enters -5? Why was there a different output?"
   ]
  },
  {
   "cell_type": "markdown",
   "id": "4fe4e5b4-b1e7-46ac-acda-22aa10121c0a",
   "metadata": {},
   "source": []
  },
  {
   "cell_type": "markdown",
   "id": "de1ac871-3269-4179-b3dd-779e07f1c13a",
   "metadata": {},
   "source": [
    "9. Run the second example. What is the output when the user enters the number 71? What is the output when the user enters 167?"
   ]
  },
  {
   "cell_type": "markdown",
   "id": "8c5a155c-d808-4110-bf1c-b3bebdb9fee9",
   "metadata": {},
   "source": []
  },
  {
   "cell_type": "markdown",
   "id": "e75f5802-d6b7-4d66-a38e-a4b02b15560f",
   "metadata": {},
   "source": [
    "10. After an if-condition, what syntax differentiates between (1) statements that are executed if the condition is True and (2) statements that are always executed?"
   ]
  },
  {
   "cell_type": "markdown",
   "id": "0317aa58-f3b8-4abe-a77d-ef5e286c7fdc",
   "metadata": {},
   "source": []
  },
  {
   "cell_type": "markdown",
   "id": "39d20a68-e87f-48cf-be2a-9d66c87d972d",
   "metadata": {},
   "source": [
    "11. Try running the code below. What Error did you get? What does this tell you about when the indentation in a Python Program is inconsistent?"
   ]
  },
  {
   "cell_type": "code",
   "execution_count": null,
   "id": "5e272107-534c-48d7-b63b-6286945d588f",
   "metadata": {},
   "outputs": [],
   "source": [
    "pineapple_on_pizza = True\n",
    "if pineapple_on_pizza == True:\n",
    "    print(\"YUCK!\")\n",
    "  else:\n",
    "             print('phew! no pineapple')"
   ]
  },
  {
   "cell_type": "markdown",
   "id": "59a4ac2e-5568-448b-8ae1-f2571c743269",
   "metadata": {},
   "source": []
  },
  {
   "cell_type": "markdown",
   "id": "13da39fc-a9a0-4a5b-afd5-75ffc3524f6f",
   "metadata": {},
   "source": [
    "12. Based on the examples above, what must each line preceding an indented block of code end with?"
   ]
  },
  {
   "cell_type": "markdown",
   "id": "fc53493d-98d9-44e1-90ce-2974f37f15e5",
   "metadata": {},
   "source": []
  },
  {
   "cell_type": "markdown",
   "id": "dfad0fed-1d1a-465f-87b6-1136d58592fa",
   "metadata": {},
   "source": [
    "13. In the code cell below, write an *if* statement that determines whether a number is even or odd, and then prints the message \"*number* is even\" or \"*number* is odd\". (Hint: use the % operator)"
   ]
  },
  {
   "cell_type": "code",
   "execution_count": null,
   "id": "fb3910f9-99a6-4783-acbd-1d4712819e21",
   "metadata": {},
   "outputs": [],
   "source": []
  },
  {
   "cell_type": "markdown",
   "id": "48976c69-4f99-4158-9085-7d056f6b29c0",
   "metadata": {},
   "source": [
    "# Part 3 Boolean Operators"
   ]
  },
  {
   "cell_type": "markdown",
   "id": "ae8ad073-d06f-4c60-9bb7-d8dd527ab099",
   "metadata": {},
   "source": [
    "Expressions may include Boolean operators to implement basic logic. If all three operators appear in the same expression, Python will evaluate *not* first, then *and*, and finally *or*. If there are multuiple of the same operator, they are evaluated from left to right."
   ]
  },
  {
   "cell_type": "markdown",
   "id": "e6d310c9-36c0-4c06-b233-1dcdf474d049",
   "metadata": {},
   "source": [
    "**Read the questions before filling in the table!!**"
   ]
  },
  {
   "cell_type": "markdown",
   "id": "b96e346e-c297-49ab-9ba1-b656fbf8bc02",
   "metadata": {},
   "source": [
    "|         **Python Code**           | **Predicted Output** | **Actual Output**|\n",
    "|-----------------------------------|----------------------|------------------|\n",
    "|**print(a < b and b < c)**             |                      |                  |\n",
    "|**print(a < b or b < c)**              |                      |                  |\n",
    "|**print(a < b and b > c)**             |                      |                  |\n",
    "|**print(a < b or b > c)**              |                      |                  |\n",
    "|**print(not a < b)**                   |                      |                  |\n",
    "|**print(a > b or not a > c and b > c)**|                      |                  |\n"
   ]
  },
  {
   "cell_type": "markdown",
   "id": "ce8a87fb-40e9-445e-8d68-161df835c649",
   "metadata": {},
   "source": [
    "## Questions"
   ]
  },
  {
   "cell_type": "markdown",
   "id": "5f50fd28-281e-408c-94a0-5a2e7107d423",
   "metadata": {},
   "source": [
    "15. What is the resulting *data type* when you run ***a < b***? What data type is the result of ***a < b and b < c***"
   ]
  },
  {
   "cell_type": "markdown",
   "id": "69d4db60-a92c-453e-90aa-3c4caaf393f1",
   "metadata": {},
   "source": []
  },
  {
   "cell_type": "markdown",
   "id": "610cf05f-4bd1-475b-888a-d307c3e06296",
   "metadata": {},
   "source": [
    "16. Set the variables *a = 3, b = 4, c = 5*. Predicted the output of each print statement in the table. Then execute each line in the code cell below to check your work."
   ]
  },
  {
   "cell_type": "code",
   "execution_count": null,
   "id": "3b060220-926f-4bae-ba79-273c02038e5b",
   "metadata": {},
   "outputs": [],
   "source": []
  },
  {
   "cell_type": "markdown",
   "id": "d2e8d333-985d-4772-978f-b83a51b91f0d",
   "metadata": {},
   "source": [
    "17. Based on the variables in *#16*, what is the value of ***a < b***? What is the value of ***b < c***?"
   ]
  },
  {
   "cell_type": "markdown",
   "id": "1f65961f-be93-40c1-ae89-f00d82217273",
   "metadata": {},
   "source": []
  },
  {
   "cell_type": "markdown",
   "id": "afeda136-5776-452c-bf53-291cb3ebbbe2",
   "metadata": {},
   "source": [
    "18. If two ***True*** Boolean expressions are compared using the ***and*** operator, what is the resulting Boolean value?"
   ]
  },
  {
   "cell_type": "code",
   "execution_count": null,
   "id": "14b7cf0d-0bea-4b08-8c4a-d83122696a84",
   "metadata": {},
   "outputs": [],
   "source": []
  },
  {
   "attachments": {},
   "cell_type": "markdown",
   "id": "f7ba68f2-c7df-4b4f-8b26-a3ca80049af5",
   "metadata": {},
   "source": [
    "19. Using the variables defined in *#16*, write an expression in the code cell below that will compare two ***False*** Boolean expressions using the *or* operator."
   ]
  },
  {
   "cell_type": "code",
   "execution_count": null,
   "id": "5f6b89f8-88ab-4a26-93c1-644de821b8af",
   "metadata": {},
   "outputs": [],
   "source": []
  },
  {
   "cell_type": "markdown",
   "id": "22709388-0c12-492e-bb9e-9f0623be51e9",
   "metadata": {},
   "source": [
    "20. Assuming *P* and *Q* each represent a Boolean expression that evaluates to the Boolean value indicated, complete the following table."
   ]
  },
  {
   "cell_type": "markdown",
   "id": "d2b53e74-d2ff-4c2b-8068-78e806ff0e43",
   "metadata": {},
   "source": [
    "|  **P**  |  **Q**  |**P and Q**|**P or Q**|\n",
    "|---------|---------|-----------|----------|\n",
    "|**False**|**False**|           |          |\n",
    "|**False**|**True** |           |          |\n",
    "|**True** |**False**|           |          |\n",
    "|**True** |**True** |           |          |"
   ]
  },
  {
   "cell_type": "markdown",
   "id": "ada232a9-eb2e-4bb8-9775-2029d9391c1f",
   "metadata": {},
   "source": [
    "21. Assume that two Boolean expressions are compared using the ***and*** operator. If the value of the first expression is ***False***, is it necessary to determine the value fo the second expression? Explain why or why not."
   ]
  },
  {
   "cell_type": "markdown",
   "id": "b224cd7d-864e-4307-96be-6c7a6f6c1de4",
   "metadata": {},
   "source": []
  },
  {
   "cell_type": "markdown",
   "id": "76e43325-c4bb-4345-8894-ffab7434c9dc",
   "metadata": {},
   "source": [
    "22. Assume that two Boolean expressions are compared using the ***or*** operator. If the value of the first expression is ***True***, is it necessary to determine the value of the second expression? Explain why or why not."
   ]
  },
  {
   "cell_type": "markdown",
   "id": "aae27e71-996b-4a07-9d42-0018912975c3",
   "metadata": {},
   "source": []
  },
  {
   "cell_type": "markdown",
   "id": "f47cd1c6-ccd3-411e-9fb0-8512b4f3c72a",
   "metadata": {},
   "source": [
    "24. Suppose you want to execute a statement ***sum = x + y*** only when both *x* and *y* are positive. Determine the appropriate operators, and write a single Boolean expression in the code cell below for the if-condition."
   ]
  },
  {
   "cell_type": "code",
   "execution_count": null,
   "id": "0f03e13f-51b7-4e5c-98fd-5428b703efde",
   "metadata": {},
   "outputs": [],
   "source": []
  },
  {
   "cell_type": "markdown",
   "id": "ed58ca00-de22-46e4-8032-1b61e38992fb",
   "metadata": {},
   "source": [
    "26. Precipitation can come in a variety of forms (rain, freezing rain, sleet, snow, etc). The precipitation type is dependent on the temperature at different levels of the atmosphere(cloud temp, temp aloft, and surface temp). Write an *if/else* block that determines the precipitation type based on the table below. Temperatures are in degrees Celsius.\n",
    "\n",
    "|**Precipitation Type**| **Cloud Temp**| **Temp Aloft**| **Surface Temp**|\n",
    "|----------------------|---------------|---------------|-----------------|\n",
    "|**Rain**              | 0 to 50   | 1 to 50 | 1 to 50|\n",
    "|**Freezing Rain**     | -10 to -5|5 to 15| -10 to 0|\n",
    "|**Sleet**             | -15 to -10| -5 to 5| -10 to -5|\n",
    "|**Snow**              | -25 to -15| -20 to -10| -15 to -5|"
   ]
  },
  {
   "cell_type": "code",
   "execution_count": null,
   "id": "917a17c0-480f-4777-a430-46790331a826",
   "metadata": {},
   "outputs": [],
   "source": [
    "cloud_temp = int(input(\"Enter cloud temp: \"))\n",
    "temp_aloft = int(input(\"Enter temp aloft: \"))\n",
    "surface_temp = int(input(\"Enter surface temp: \"))\n",
    "\n"
   ]
  }
 ],
 "metadata": {
  "kernelspec": {
   "display_name": "Python 3 (ipykernel)",
   "language": "python",
   "name": "python3"
  },
  "language_info": {
   "codemirror_mode": {
    "name": "ipython",
    "version": 3
   },
   "file_extension": ".py",
   "mimetype": "text/x-python",
   "name": "python",
   "nbconvert_exporter": "python",
   "pygments_lexer": "ipython3",
   "version": "3.12.7"
  }
 },
 "nbformat": 4,
 "nbformat_minor": 5
}
